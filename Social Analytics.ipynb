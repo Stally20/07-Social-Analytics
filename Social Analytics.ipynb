{
 "cells": [
  {
   "cell_type": "code",
   "execution_count": null,
   "metadata": {
    "collapsed": true
   },
   "outputs": [],
   "source": [
    "\n",
    "import numpy as np\n",
    "import pandas as pd\n",
    "import matplotlib.pyplot as plt\n",
    "from matplotlib import style\n",
    "style.use(\"seaborn\")\n",
    "import json\n",
    "import tweepy\n",
    "import time\n",
    "from datetime import datetime\n",
    "\n",
    "# Twitter API Keys\n",
    "from config import (consumer_key, \n",
    "                    consumer_secret, \n",
    "                    access_token, \n",
    "                    access_token_secret)"
   ]
  },
  {
   "cell_type": "code",
   "execution_count": null,
   "metadata": {
    "collapsed": true
   },
   "outputs": [],
   "source": [
    "# Initialize Sentiment Analyzer\n",
    "from vaderSentiment.vaderSentiment import SentimentIntensityAnalyzer\n",
    "analyzer = SentimentIntensityAnalyzer()\n",
    "\n",
    "# Set up Tweepy API Authentication\n",
    "auth = tweepy.OAuthHandler(consumer_key, consumer_secret)\n",
    "auth.set_access_token(access_token, access_token_secret)\n",
    "api = tweepy.API(auth, parser=tweepy.parsers.JSONParser())"
   ]
  },
  {
   "cell_type": "code",
   "execution_count": null,
   "metadata": {
    "collapsed": true
   },
   "outputs": [],
   "source": [
    "# Store current time in variable\n",
    "now = datetime.now()\n",
    "\n",
    "# Target Accounts\n",
    "news_accounts = [\"@CBSNews\", \"@FoxNews\", \"@CNN\", \"@BBCNews\", \"@NYTimes\"]\n",
    "\n",
    "# Arrays to hold master dataframe and mean aggregates\n",
    "news_tweet_sentiments = []\n",
    "news_sentiment_means = []\n",
    "\n",
    "# Loop through each news organization\n",
    "for account in news_accounts:\n",
    "    # Initialize each organization's mean sentiment list\n",
    "    org_compound_list = []\n",
    "    org_positive_list = []\n",
    "    org_negative_list = []\n",
    "    org_neutral_list = []\n",
    "    \n",
    "    # Counter\n",
    "    counter = 1\n",
    "    \n",
    "    # Get all tweets from organization's home feed\n",
    "    public_tweets = api.user_timeline(account, count=100)\n",
    "\n",
    "    # Loop through all tweets \n",
    "    for tweet in public_tweets:\n",
    "        tweet_text = tweet[\"text\"]\n",
    "        # Date format in JSON is: \"Fri Feb 09 00:35:02 +0000 2007\"\n",
    "        tweet_date = datetime.strptime(tweet[\"created_at\"], '%a %b %d %X %z %Y')\n",
    "\n",
    "        # Run Vader Analysis on each tweet\n",
    "        results = analyzer.polarity_scores(tweet_text)\n",
    "        cmp = results[\"compound\"]\n",
    "        pos = results[\"pos\"]\n",
    "        neu = results[\"neu\"]\n",
    "        neg = results[\"neg\"]\n",
    "        tweets_ago = counter\n",
    "\n",
    "        # Add sentiment values for each tweet into list of dictionaries for dataframe (of all tweets by news organization)\n",
    "        news_tweet_sentiments.append({\"User\": account,\n",
    "                                   \"Date\": tweet_date, \n",
    "                                   \"Compound\": cmp,\n",
    "                                   \"Positive\": pos,\n",
    "                                   \"Negative\": neg,\n",
    "                                   \"Neutral\": neu,\n",
    "                                   \"Tweet Text\": tweet_text,\n",
    "                                   \"Tweets Ago\": tweets_ago})\n",
    "\n",
    "        # Append values into arrays for the means (2nd chart)\n",
    "        org_compound_list.append(cmp)\n",
    "        org_positive_list.append(pos)\n",
    "        org_negative_list.append(neg)\n",
    "        org_neutral_list.append(neu)\n",
    "        \n",
    "        # Add to counter \n",
    "        counter = counter + 1\n",
    "    \n",
    "    # Store the mean sentiment values into separate array\n",
    "    sentiment_mean = {\"User\": account,\n",
    "                     \"Compound\": np.mean(org_compound_list),\n",
    "                     \"Positive\": np.mean(org_positive_list),\n",
    "                     \"Neutral\": np.mean(org_neutral_list),\n",
    "                     \"Negative\": np.mean(org_negative_list),\n",
    "                     \"Tweet Count\": len(org_compound_list)}\n",
    "\n",
    "    news_sentiment_means.append(sentiment_mean)"
   ]
  },
  {
   "cell_type": "code",
   "execution_count": null,
   "metadata": {
    "collapsed": true
   },
   "outputs": [],
   "source": [
    "# Convert master sentiments dataset into DataFrame\n",
    "df_sentiments = pd.DataFrame(news_tweet_sentiments)\n",
    "\n",
    "# Open and write to output file\n",
    "csv_file = f\"TwitterNewsSentimentAnalysis_{now.strftime('%m-%d-%Y %H%M')}.csv\"\n",
    "df_sentiments.to_csv(csv_file, index=False)\n",
    "\n",
    "# Output top rows of dataframe\n",
    "df_sentiments.head(50)"
   ]
  },
  {
   "cell_type": "code",
   "execution_count": null,
   "metadata": {
    "collapsed": true
   },
   "outputs": [],
   "source": [
    "# Define organization-specific datasets\n",
    "df_cnn = df_sentiments[df_sentiments[\"User\"] == \"@CNN\"]\n",
    "df_bbc = df_sentiments[df_sentiments[\"User\"] == \"@BBCNews\"]\n",
    "df_fox = df_sentiments[df_sentiments[\"User\"] == \"@FoxNews\"]\n",
    "df_nyt = df_sentiments[df_sentiments[\"User\"] == \"@NYTimes\"]\n",
    "df_cbs = df_sentiments[df_sentiments[\"User\"] == \"@CBSNews\"]\n",
    "df_nyt.head(10)"
   ]
  },
  {
   "cell_type": "code",
   "execution_count": null,
   "metadata": {
    "collapsed": true
   },
   "outputs": [],
   "source": [
    "# Initialize label variables for each news org\n",
    "lbl_cnn = \"CNN\"\n",
    "lbl_fox = \"Fox News\"\n",
    "lbl_cbs = \"CBS News\"\n",
    "lbl_bbc = \"BBC News\"\n",
    "lbl_nyt = \"NY Times\"\n",
    "\n",
    "# Colors\n",
    "color_cnn = \"cyan\"\n",
    "color_fox = \"red\"\n",
    "color_bbc = \"green\"\n",
    "color_cbs = \"yellow\"\n",
    "color_nyt = \"blue\"\n",
    "\n",
    "# ***** SET AXIS TICKS, LABELS, LIMITS, AND TITLE ******\n",
    "fig, ax = plt.subplots()\n",
    "ax.set_xlim(105, -5)\n",
    "ax.set_xlabel(\"Tweets Ago\", fontsize=14)\n",
    "ax.set_ylabel(\"Tweet Polarity\", fontsize=14)   \n",
    "ax.set_title(f\"Sentiment Analysis of Media Tweets ({now.strftime('%m/%d/%Y %H:%M')})\", fontsize=18)\n",
    "ax.set_xmargin = 20\n",
    "\n",
    "# ********* SCATTER PLOTTING ************\n",
    "xaxis = np.arange(100)\n",
    "handle_cnn = ax.scatter(xaxis, df_cnn[\"Compound\"], facecolors=color_cnn, marker=\"o\", label=lbl_cnn)\n",
    "handle_fox = ax.scatter(xaxis, df_fox[\"Compound\"], facecolors=color_fox, marker=\"o\", label=lbl_fox)\n",
    "handle_cbs = ax.scatter(xaxis, df_cbs[\"Compound\"], facecolors=color_cbs, marker=\"o\", label=lbl_cbs)\n",
    "handle_bbc = ax.scatter(xaxis, df_bbc[\"Compound\"], facecolors=color_bbc, marker=\"o\", label=lbl_bbc)\n",
    "handle_nyt = ax.scatter(xaxis, df_nyt[\"Compound\"], facecolors=color_nyt, marker=\"o\", label=lbl_nyt)\n",
    "                     \n",
    "# Add some padding below and to left of the ticks in the axes\n",
    "ax.xaxis.labelpad = 15\n",
    "ax.yaxis.labelpad = 15\n",
    "ax.title.set_position([.5, 1.04])\n",
    "\n",
    "# Define scatter plot legend\n",
    "ax.legend(handles=[handle_cnn, handle_fox, handle_cbs, handle_bbc, handle_nyt], frameon=True, facecolor=\"white\", loc='center left', bbox_to_anchor=(1, 0.5))\n",
    "\n",
    "# Output the scatter plot to file\n",
    "plt.savefig(f\"TwitterNewsSentimentAnalysis_Scatter_{now.strftime('%m-%d-%Y %H%M')}.png\")\n",
    "\n",
    "# Show scatter plot\n",
    "plt.show()"
   ]
  },
  {
   "cell_type": "code",
   "execution_count": null,
   "metadata": {
    "collapsed": true
   },
   "outputs": [],
   "source": [
    "# Convert sentiment means dataset into DataFrame\n",
    "df_sentiment_means = pd.DataFrame(news_sentiment_means)\n",
    "df_sentiment_means.head(10)"
   ]
  },
  {
   "cell_type": "code",
   "execution_count": null,
   "metadata": {
    "collapsed": true
   },
   "outputs": [],
   "source": [
    "# Create series holding our aggregate dataset\n",
    "sentiment_mean = pd.Series([df_sentiment_means.at[2, \"Compound\"], \n",
    "                            df_sentiment_means.at[1, \"Compound\"],\n",
    "                            df_sentiment_means.at[0, \"Compound\"],\n",
    "                            df_sentiment_means.at[3, \"Compound\"],\n",
    "                            df_sentiment_means.at[4, \"Compound\"]\n",
    "                           ],\n",
    "                           [lbl_cnn, lbl_fox, lbl_cbs, lbl_bbc, lbl_nyt]\n",
    "                          )\n",
    "\n",
    "sentiment_mean"
   ]
  },
  {
   "cell_type": "code",
   "execution_count": null,
   "metadata": {
    "collapsed": true
   },
   "outputs": [],
   "source": [
    "# Define our Bar chart \n",
    "x_axis = np.arange(0, 5, 1)\n",
    "barwidth = 0.7       # the width of the bars\n",
    "\n",
    "# Create our axis variable\n",
    "fig, ax = plt.subplots()\n",
    "\n",
    "# Define bars\n",
    "colors = [color_cnn, color_fox, color_cbs, color_bbc, color_nyt]\n",
    "rects = ax.bar(x_axis, sentiment_mean, color=colors, alpha=0.3, align=\"edge\", width=barwidth)\n",
    "\n",
    "# Draw a horizontal line at y=0\n",
    "ax.hlines(0, -0.1, 10, alpha=0.5)\n",
    "    \n",
    "# Set the limits of the x axis (with some whitespace to left and right)\n",
    "ax.set_xlim(-0.1, len(x_axis))\n",
    "\n",
    "# Set the limits of the y axis (add some whitespace to the top/bottom of the chart)\n",
    "ax.set_ylim(min(sentiment_mean) - .02, max(sentiment_mean) + .04)\n",
    "\n",
    "# add some text for labels, title and axes ticks\n",
    "ax.set_ylabel(\"Tweet Polarity\", fontsize=14)\n",
    "ax.set_xlabel(\"News Organization\", fontsize=14)\n",
    "ax.set_title(f\"Overall Media Sentiment Based on Twitter ({now.strftime('%m/%d/%Y')})\", fontsize=18)\n",
    "\n",
    "# Create the ticks for our bar chart's x axis\n",
    "ax.tick_params(direction=\"out\", color=\"black\", width=1, length=5, axis=\"y\", pad=2)\n",
    "ax.set_xticks([value+0.35 for value in x_axis])\n",
    "ax.set_xticklabels(sentiment_mean.index)\n",
    "\n",
    "# Add some padding below and to left of the ticks in the axes\n",
    "ax.xaxis.labelpad = 15\n",
    "ax.yaxis.labelpad = 15\n",
    "ax.title.set_position([.5, 1.04])\n",
    "\n",
    "def autolabel(rects):\n",
    "    '''\n",
    "    Attach a text label above each bar displaying its height\n",
    "    '''\n",
    "    for rect in rects:\n",
    "        height = rect.get_height() # Get the exact height of the bar\n",
    "        height_formatted = \"{0:.4f}\".format(rect.get_height())  # format display of value\n",
    "        ax.text(rect.get_x() + rect.get_width()/2, 0.6*height, height_formatted, ha='center', va='bottom')\n",
    "\n",
    "# Add labels to our bars\n",
    "autolabel(rects)\n",
    "\n",
    "# Output the bar chart to file\n",
    "plt.savefig(f\"TwitterNewsSentimentAnalysis_OverallMeans_Bar_{now.strftime('%m-%d-%Y %H%M')}.png\")\n",
    "\n",
    "# Display bar chart\n",
    "plt.show()"
   ]
  }
 ],
 "metadata": {
  "kernelspec": {
   "display_name": "Python 3",
   "language": "python",
   "name": "python3"
  },
  "language_info": {
   "codemirror_mode": {
    "name": "ipython",
    "version": 3
   },
   "file_extension": ".py",
   "mimetype": "text/x-python",
   "name": "python",
   "nbconvert_exporter": "python",
   "pygments_lexer": "ipython3",
   "version": "3.6.3"
  }
 },
 "nbformat": 4,
 "nbformat_minor": 2
}
